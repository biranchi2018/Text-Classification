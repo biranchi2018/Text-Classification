{
  "nbformat": 4,
  "nbformat_minor": 0,
  "metadata": {
    "colab": {
      "name": "DNN _TFIDF.ipynb",
      "provenance": [],
      "machine_shape": "hm"
    },
    "kernelspec": {
      "name": "python3",
      "display_name": "Python 3"
    },
    "accelerator": "GPU"
  },
  "cells": [
    {
      "cell_type": "markdown",
      "metadata": {
        "id": "xaPTr92gQrTX",
        "colab_type": "text"
      },
      "source": [
        "### Simple DNN"
      ]
    },
    {
      "cell_type": "code",
      "metadata": {
        "id": "1TIy5qLt-Dbf",
        "colab_type": "code",
        "outputId": "5ef5b17b-63cd-4d4c-a856-c70deac71796",
        "colab": {
          "base_uri": "https://localhost:8080/",
          "height": 34
        }
      },
      "source": [
        "from google.colab import drive\n",
        "drive.mount('/content/drive')"
      ],
      "execution_count": 0,
      "outputs": [
        {
          "output_type": "stream",
          "text": [
            "Drive already mounted at /content/drive; to attempt to forcibly remount, call drive.mount(\"/content/drive\", force_remount=True).\n"
          ],
          "name": "stdout"
        }
      ]
    },
    {
      "cell_type": "code",
      "metadata": {
        "id": "kmBX4qON-Em8",
        "colab_type": "code",
        "colab": {}
      },
      "source": [
        "import pandas as pd\n",
        "import numpy as np\n",
        "from sklearn.preprocessing import LabelEncoder\n",
        "from sklearn.model_selection import train_test_split\n",
        "import matplotlib.pyplot as plt\n",
        "% matplotlib inline"
      ],
      "execution_count": 0,
      "outputs": []
    },
    {
      "cell_type": "code",
      "metadata": {
        "id": "NQi2RVds-ZqO",
        "colab_type": "code",
        "colab": {}
      },
      "source": [
        "## Change urls \n",
        "url_rdf = '/content/drive/My Drive/IBM/dataset/raw_df.csv'\n",
        "url_pdf = '/content/drive/My Drive/IBM/dataset/processed.csv'\n",
        "url_udf = '/content/drive/My Drive/IBM/dataset/processed_user.csv'\n",
        "url_olid = '/content/drive/My Drive/IBM/dataset/olid.csv'\n",
        "url_hate = '/content/drive/My Drive/IBM/dataset/hate.csv'\n",
        "rdf = pd.read_csv(url_rdf)\n",
        "pdf = pd.read_csv(url_pdf)\n",
        "udf = pd.read_csv(url_udf)\n",
        "olid = pd.read_csv(url_olid)\n",
        "hate = pd.read_csv(url_hate)"
      ],
      "execution_count": 0,
      "outputs": []
    },
    {
      "cell_type": "code",
      "metadata": {
        "id": "IEHvO9ne-nzi",
        "colab_type": "code",
        "outputId": "1cf36228-c0bb-454b-da49-dbc25fe63906",
        "colab": {
          "base_uri": "https://localhost:8080/",
          "height": 195
        }
      },
      "source": [
        "olid.head()"
      ],
      "execution_count": 0,
      "outputs": [
        {
          "output_type": "execute_result",
          "data": {
            "text/html": [
              "<div>\n",
              "<style scoped>\n",
              "    .dataframe tbody tr th:only-of-type {\n",
              "        vertical-align: middle;\n",
              "    }\n",
              "\n",
              "    .dataframe tbody tr th {\n",
              "        vertical-align: top;\n",
              "    }\n",
              "\n",
              "    .dataframe thead th {\n",
              "        text-align: right;\n",
              "    }\n",
              "</style>\n",
              "<table border=\"1\" class=\"dataframe\">\n",
              "  <thead>\n",
              "    <tr style=\"text-align: right;\">\n",
              "      <th></th>\n",
              "      <th>Unnamed: 0</th>\n",
              "      <th>tweet</th>\n",
              "      <th>label</th>\n",
              "    </tr>\n",
              "  </thead>\n",
              "  <tbody>\n",
              "    <tr>\n",
              "      <th>0</th>\n",
              "      <td>0</td>\n",
              "      <td>@USER She should ask a few native Americans wh...</td>\n",
              "      <td>1</td>\n",
              "    </tr>\n",
              "    <tr>\n",
              "      <th>1</th>\n",
              "      <td>1</td>\n",
              "      <td>@USER @USER Go home you’re drunk!!! @USER #MAG...</td>\n",
              "      <td>1</td>\n",
              "    </tr>\n",
              "    <tr>\n",
              "      <th>2</th>\n",
              "      <td>2</td>\n",
              "      <td>Amazon is investigating Chinese employees who ...</td>\n",
              "      <td>0</td>\n",
              "    </tr>\n",
              "    <tr>\n",
              "      <th>3</th>\n",
              "      <td>3</td>\n",
              "      <td>@USER Someone should'veTaken\" this piece of sh...</td>\n",
              "      <td>1</td>\n",
              "    </tr>\n",
              "    <tr>\n",
              "      <th>4</th>\n",
              "      <td>4</td>\n",
              "      <td>@USER @USER Obama wanted liberals &amp;amp; illega...</td>\n",
              "      <td>0</td>\n",
              "    </tr>\n",
              "  </tbody>\n",
              "</table>\n",
              "</div>"
            ],
            "text/plain": [
              "   Unnamed: 0                                              tweet  label\n",
              "0           0  @USER She should ask a few native Americans wh...      1\n",
              "1           1  @USER @USER Go home you’re drunk!!! @USER #MAG...      1\n",
              "2           2  Amazon is investigating Chinese employees who ...      0\n",
              "3           3  @USER Someone should'veTaken\" this piece of sh...      1\n",
              "4           4  @USER @USER Obama wanted liberals &amp; illega...      0"
            ]
          },
          "metadata": {
            "tags": []
          },
          "execution_count": 36
        }
      ]
    },
    {
      "cell_type": "code",
      "metadata": {
        "id": "tVyxMAhNQvUl",
        "colab_type": "code",
        "colab": {}
      },
      "source": [
        "## Model Building"
      ],
      "execution_count": 0,
      "outputs": []
    },
    {
      "cell_type": "code",
      "metadata": {
        "id": "3ITvKbcg_HZK",
        "colab_type": "code",
        "colab": {}
      },
      "source": [
        "from keras.layers import  Dropout, Dense\n",
        "from keras.models import Sequential\n",
        "from sklearn.feature_extraction.text import TfidfVectorizer\n",
        "from sklearn.metrics import matthews_corrcoef, confusion_matrix\n",
        "from sklearn.model_selection import train_test_split\n",
        "from sklearn.utils import shuffle\n",
        "from sklearn import metrics\n",
        "import warnings\n",
        "import logging\n",
        "logging.basicConfig(level=logging.INFO)"
      ],
      "execution_count": 0,
      "outputs": []
    },
    {
      "cell_type": "code",
      "metadata": {
        "id": "dCxPQZ17_l0N",
        "colab_type": "code",
        "colab": {}
      },
      "source": [
        "def TFIDF(X_train, X_test,MAX_NB_WORDS=75000):\n",
        "    vectorizer_x = TfidfVectorizer(max_features=MAX_NB_WORDS)\n",
        "    X_train = vectorizer_x.fit_transform(X_train).toarray()\n",
        "    X_test = vectorizer_x.transform(X_test).toarray()\n",
        "    print(\"tf-idf with\",str(np.array(X_train).shape[1]),\"features\")\n",
        "    return (X_train,X_test)"
      ],
      "execution_count": 0,
      "outputs": []
    },
    {
      "cell_type": "code",
      "metadata": {
        "id": "CtnHy6vy_9Qu",
        "colab_type": "code",
        "colab": {}
      },
      "source": [
        "\n",
        "def Build_Model_DNN_Text(shape, nClasses, dropout=0.5):\n",
        "    \"\"\"\n",
        "    buildModel_DNN_Tex(shape, nClasses,dropout)\n",
        "    Build Deep neural networks Model for text classification\n",
        "    Shape is input feature space\n",
        "    nClasses is number of classes\n",
        "    \"\"\"\n",
        "    model = Sequential()\n",
        "    node = 512 # number of nodes\n",
        "    nLayers = 4 # number of  hidden layer\n",
        "    model.add(Dense(node,input_dim=shape,activation='relu'))\n",
        "    model.add(Dropout(dropout))\n",
        "    for i in range(0,nLayers):\n",
        "        model.add(Dense(node,input_dim=node,activation='relu'))\n",
        "        model.add(Dropout(dropout))\n",
        "    model.add(Dense(nClasses, activation='softmax'))\n",
        "    model.compile(loss='sparse_categorical_crossentropy',\n",
        "                  optimizer='adam',\n",
        "                  metrics=['accuracy'])\n",
        "    return model"
      ],
      "execution_count": 0,
      "outputs": []
    },
    {
      "cell_type": "code",
      "metadata": {
        "id": "qPO1WESCaqJa",
        "colab_type": "code",
        "colab": {}
      },
      "source": [
        "def experiment(df):\n",
        "  \n",
        "  print(\"Running Experiment ... \")\n",
        "  X = df.tweet\n",
        "  y = df.label\n",
        "  X_train, X_test, y_train, y_test = train_test_split(X, y, test_size = 0.2)\n",
        "  print(\"Generating TFIDF ...\")\n",
        "  X_train_tfidf, X_test_tfidf = TFIDF(X_train, X_test)\n",
        "  with warnings.catch_warnings():\n",
        "\n",
        "    warnings.simplefilter(\"ignore\")\n",
        "    print(\"Building Model ...\")\n",
        "    model_DNN = Build_Model_DNN_Text(X_train_tfidf.shape[1], 2)\n",
        "    model_DNN.summary()\n",
        "    print(\"\\n Starting Training ... \\n\")\n",
        "    history = model_DNN.fit(X_train_tfidf, y_train,\n",
        "                              validation_data=(X_test_tfidf, y_test),\n",
        "                              epochs=10,\n",
        "                              batch_size=128,\n",
        "                              verbose=1)\n",
        "  \n",
        "  print(\"\\n Plotting results ... \\n\")\n",
        "  plot_graphs(history, 'acc')\n",
        "  plot_graphs(history, 'loss')\n",
        "  print(\"\\n Evaluating Model ... \\n\")\n",
        "  predicted = model_DNN.predict_classes(X_test_tfidf)\n",
        "  #print(predicted)\n",
        "  print(metrics.classification_report(y_test, predicted))\n",
        "  print(\"\\n\")\n",
        "  logger = logging.getLogger(\"logger\")\n",
        "  result = compute_metrics(y_test, predicted)\n",
        "  for key in (result.keys()):\n",
        "      logger.info(\"  %s = %s\", key, str(result[key]))"
      ],
      "execution_count": 0,
      "outputs": []
    },
    {
      "cell_type": "code",
      "metadata": {
        "id": "7tXoNgErKTnQ",
        "colab_type": "code",
        "colab": {}
      },
      "source": [
        "def class_balance(df, target):\n",
        "  cls = df[target].value_counts()\n",
        "  cls.plot(kind='bar')\n",
        "  plt.show()"
      ],
      "execution_count": 0,
      "outputs": []
    },
    {
      "cell_type": "code",
      "metadata": {
        "id": "IdOhgSzqOX8L",
        "colab_type": "code",
        "colab": {}
      },
      "source": [
        "def plot_graphs(history, string):\n",
        "  plt.plot(history.history[string])\n",
        "  plt.plot(history.history['val_'+string], '')\n",
        "  plt.xlabel(\"Epochs\")\n",
        "  plt.ylabel(string)\n",
        "  plt.legend([string, 'val_'+string])\n",
        "  plt.show()"
      ],
      "execution_count": 0,
      "outputs": []
    },
    {
      "cell_type": "code",
      "metadata": {
        "id": "czUTArfpOdCR",
        "colab_type": "code",
        "colab": {}
      },
      "source": [
        "def get_eval_report(labels, preds):\n",
        "    mcc = matthews_corrcoef(labels, preds)\n",
        "    tn, fp, fn, tp = confusion_matrix(labels, preds).ravel()\n",
        "    precision = (tp)/(tp+fp)\n",
        "    recall = (tp)/(tp+fn)\n",
        "    f1 = (2*(precision*recall))/(precision+recall)\n",
        "    return {\n",
        "        \"mcc\": mcc,\n",
        "        \"tp\": tp,\n",
        "        \"tn\": tn,\n",
        "        \"fp\": fp,\n",
        "        \"fn\": fn,\n",
        "        \"pricision\" : precision,\n",
        "        \"recall\" : recall,\n",
        "        \"F1\" : f1,\n",
        "        \"accuracy\": (tp+tn)/(tp+tn+fp+fn)\n",
        "    }\n",
        "\n",
        "def compute_metrics(labels, preds):\n",
        "    assert len(preds) == len(labels)\n",
        "    return get_eval_report(labels, preds)"
      ],
      "execution_count": 0,
      "outputs": []
    },
    {
      "cell_type": "markdown",
      "metadata": {
        "id": "lXs4uhLiSrgQ",
        "colab_type": "text"
      },
      "source": [
        "### Experiment with RDF"
      ]
    },
    {
      "cell_type": "code",
      "metadata": {
        "id": "Z_deGA9BJpOa",
        "colab_type": "code",
        "outputId": "f50187f2-a211-41e8-fc0c-039d17a61aa8",
        "colab": {
          "base_uri": "https://localhost:8080/",
          "height": 262
        }
      },
      "source": [
        "class_balance(rdf,'label')"
      ],
      "execution_count": 0,
      "outputs": [
        {
          "output_type": "display_data",
          "data": {
            "image/png": "[encoded data removed]",
            "text/plain": [
              "<Figure size 432x288 with 1 Axes>"
            ]
          },
          "metadata": {
            "tags": []
          }
        }
      ]
    },
    {
      "cell_type": "code",
      "metadata": {
        "id": "svMjhZA2LWq6",
        "colab_type": "code",
        "colab": {}
      },
      "source": [
        "srdf = shuffle(rdf)"
      ],
      "execution_count": 0,
      "outputs": []
    },
    {
      "cell_type": "code",
      "metadata": {
        "id": "HrXkoE9OY0eb",
        "colab_type": "code",
        "outputId": "8b2cbb99-88bd-4a07-ae1d-42603c41e88e",
        "colab": {
          "base_uri": "https://localhost:8080/",
          "height": 1000
        }
      },
      "source": [
        "experiment(srdf)"
      ],
      "execution_count": 0,
      "outputs": [
        {
          "output_type": "stream",
          "text": [
            "Running Experiment ... \n",
            "Generating TFIDF ...\n",
            "tf-idf with 39054 features\n",
            "Building Model ...\n",
            "Model: \"sequential_2\"\n",
            "_________________________________________________________________\n",
            "Layer (type)                 Output Shape              Param #   \n",
            "=================================================================\n",
            "dense_7 (Dense)              (None, 512)               19996160  \n",
            "_________________________________________________________________\n",
            "dropout_6 (Dropout)          (None, 512)               0         \n",
            "_________________________________________________________________\n",
            "dense_8 (Dense)              (None, 512)               262656    \n",
            "_________________________________________________________________\n",
            "dropout_7 (Dropout)          (None, 512)               0         \n",
            "_________________________________________________________________\n",
            "dense_9 (Dense)              (None, 512)               262656    \n",
            "_________________________________________________________________\n",
            "dropout_8 (Dropout)          (None, 512)               0         \n",
            "_________________________________________________________________\n",
            "dense_10 (Dense)             (None, 512)               262656    \n",
            "_________________________________________________________________\n",
            "dropout_9 (Dropout)          (None, 512)               0         \n",
            "_________________________________________________________________\n",
            "dense_11 (Dense)             (None, 512)               262656    \n",
            "_________________________________________________________________\n",
            "dropout_10 (Dropout)         (None, 512)               0         \n",
            "_________________________________________________________________\n",
            "dense_12 (Dense)             (None, 2)                 1026      \n",
            "=================================================================\n",
            "Total params: 21,047,810\n",
            "Trainable params: 21,047,810\n",
            "Non-trainable params: 0\n",
            "_________________________________________________________________\n",
            "\n",
            " Starting Training ... \n",
            "\n",
            "Train on 29274 samples, validate on 7319 samples\n",
            "Epoch 1/10\n",
            "29274/29274 [==============================] - 12s 399us/step - loss: 0.3650 - acc: 0.8222 - val_loss: 0.2843 - val_acc: 0.8779\n",
            "Epoch 2/10\n",
            "29274/29274 [==============================] - 11s 367us/step - loss: 0.1930 - acc: 0.9223 - val_loss: 0.3023 - val_acc: 0.8768\n",
            "Epoch 3/10\n",
            "29274/29274 [==============================] - 11s 365us/step - loss: 0.0878 - acc: 0.9691 - val_loss: 0.4202 - val_acc: 0.8679\n",
            "Epoch 4/10\n",
            "29274/29274 [==============================] - 11s 366us/step - loss: 0.0414 - acc: 0.9862 - val_loss: 0.4867 - val_acc: 0.8649\n",
            "Epoch 5/10\n",
            "29274/29274 [==============================] - 11s 368us/step - loss: 0.0257 - acc: 0.9920 - val_loss: 0.6258 - val_acc: 0.8658\n",
            "Epoch 6/10\n",
            "29274/29274 [==============================] - 11s 361us/step - loss: 0.0169 - acc: 0.9954 - val_loss: 0.8013 - val_acc: 0.8676\n",
            "Epoch 7/10\n",
            "29274/29274 [==============================] - 10s 356us/step - loss: 0.0146 - acc: 0.9963 - val_loss: 0.7798 - val_acc: 0.8608\n",
            "Epoch 8/10\n",
            "29274/29274 [==============================] - 10s 354us/step - loss: 0.0109 - acc: 0.9970 - val_loss: 0.9216 - val_acc: 0.8668\n",
            "Epoch 9/10\n",
            "29274/29274 [==============================] - 10s 355us/step - loss: 0.0110 - acc: 0.9975 - val_loss: 0.7979 - val_acc: 0.8580\n",
            "Epoch 10/10\n",
            "29274/29274 [==============================] - 10s 353us/step - loss: 0.0086 - acc: 0.9977 - val_loss: 0.9710 - val_acc: 0.8638\n",
            "\n",
            " Plotting results ... \n",
            "\n"
          ],
          "name": "stdout"
        },
        {
          "output_type": "display_data",
          "data": {
            "image/png": "[encoded data removed]",
            "text/plain": [
              "<Figure size 432x288 with 1 Axes>"
            ]
          },
          "metadata": {
            "tags": []
          }
        },
        {
          "output_type": "display_data",
          "data": {
            "image/png": "[encoded data removed]",
            "text/plain": [
              "<Figure size 432x288 with 1 Axes>"
            ]
          },
          "metadata": {
            "tags": []
          }
        },
        {
          "output_type": "stream",
          "text": [
            "\n",
            " Evaluating Model ... \n",
            "\n"
          ],
          "name": "stdout"
        },
        {
          "output_type": "stream",
          "text": [
            "INFO:logger:  mcc = 0.7133546416014355\n",
            "INFO:logger:  tp = 4028\n",
            "INFO:logger:  tn = 2294\n",
            "INFO:logger:  fp = 380\n",
            "INFO:logger:  fn = 617\n",
            "INFO:logger:  pricision = 0.9137931034482759\n",
            "INFO:logger:  recall = 0.8671689989235737\n",
            "INFO:logger:  F1 = 0.8898707610736772\n",
            "INFO:logger:  accuracy = 0.8637792048094002\n"
          ],
          "name": "stderr"
        },
        {
          "output_type": "stream",
          "text": [
            "              precision    recall  f1-score   support\n",
            "\n",
            "           0       0.79      0.86      0.82      2674\n",
            "           1       0.91      0.87      0.89      4645\n",
            "\n",
            "    accuracy                           0.86      7319\n",
            "   macro avg       0.85      0.86      0.86      7319\n",
            "weighted avg       0.87      0.86      0.86      7319\n",
            "\n",
            "\n",
            "\n"
          ],
          "name": "stdout"
        }
      ]
    },
    {
      "cell_type": "markdown",
      "metadata": {
        "id": "_ipNesaXbsnC",
        "colab_type": "text"
      },
      "source": [
        "### Experiment with PDF"
      ]
    },
    {
      "cell_type": "code",
      "metadata": {
        "id": "xK0UzPzmY88f",
        "colab_type": "code",
        "outputId": "b61ec44c-e826-4fec-f885-a274e6b9295c",
        "colab": {
          "base_uri": "https://localhost:8080/",
          "height": 262
        }
      },
      "source": [
        "class_balance(pdf,'label')"
      ],
      "execution_count": 0,
      "outputs": [
        {
          "output_type": "display_data",
          "data": {
            "image/png": "[encoded data removed]",
            "text/plain": [
              "<Figure size 432x288 with 1 Axes>"
            ]
          },
          "metadata": {
            "tags": []
          }
        }
      ]
    },
    {
      "cell_type": "code",
      "metadata": {
        "id": "CcQoL0I2ZAr4",
        "colab_type": "code",
        "colab": {}
      },
      "source": [
        "spdf = shuffle(pdf)"
      ],
      "execution_count": 0,
      "outputs": []
    },
    {
      "cell_type": "code",
      "metadata": {
        "id": "B7EsXeywbuyB",
        "colab_type": "code",
        "outputId": "5324d54c-0d16-4e19-cabe-8572355e44f0",
        "colab": {
          "base_uri": "https://localhost:8080/",
          "height": 1000
        }
      },
      "source": [
        "experiment(spdf)"
      ],
      "execution_count": 0,
      "outputs": [
        {
          "output_type": "stream",
          "text": [
            "Running Experiment ... \n",
            "Generating TFIDF ...\n",
            "tf-idf with 39559 features\n",
            "Building Model ...\n",
            "Model: \"sequential_3\"\n",
            "_________________________________________________________________\n",
            "Layer (type)                 Output Shape              Param #   \n",
            "=================================================================\n",
            "dense_13 (Dense)             (None, 512)               20254720  \n",
            "_________________________________________________________________\n",
            "dropout_11 (Dropout)         (None, 512)               0         \n",
            "_________________________________________________________________\n",
            "dense_14 (Dense)             (None, 512)               262656    \n",
            "_________________________________________________________________\n",
            "dropout_12 (Dropout)         (None, 512)               0         \n",
            "_________________________________________________________________\n",
            "dense_15 (Dense)             (None, 512)               262656    \n",
            "_________________________________________________________________\n",
            "dropout_13 (Dropout)         (None, 512)               0         \n",
            "_________________________________________________________________\n",
            "dense_16 (Dense)             (None, 512)               262656    \n",
            "_________________________________________________________________\n",
            "dropout_14 (Dropout)         (None, 512)               0         \n",
            "_________________________________________________________________\n",
            "dense_17 (Dense)             (None, 512)               262656    \n",
            "_________________________________________________________________\n",
            "dropout_15 (Dropout)         (None, 512)               0         \n",
            "_________________________________________________________________\n",
            "dense_18 (Dense)             (None, 2)                 1026      \n",
            "=================================================================\n",
            "Total params: 21,306,370\n",
            "Trainable params: 21,306,370\n",
            "Non-trainable params: 0\n",
            "_________________________________________________________________\n",
            "\n",
            " Starting Training ... \n",
            "\n",
            "Train on 29274 samples, validate on 7319 samples\n",
            "Epoch 1/10\n",
            "29274/29274 [==============================] - 12s 419us/step - loss: 0.3548 - acc: 0.8299 - val_loss: 0.2811 - val_acc: 0.8783\n",
            "Epoch 2/10\n",
            "29274/29274 [==============================] - 11s 378us/step - loss: 0.1864 - acc: 0.9252 - val_loss: 0.3151 - val_acc: 0.8824\n",
            "Epoch 3/10\n",
            "29274/29274 [==============================] - 11s 376us/step - loss: 0.0808 - acc: 0.9726 - val_loss: 0.4067 - val_acc: 0.8748\n",
            "Epoch 4/10\n",
            "29274/29274 [==============================] - 11s 372us/step - loss: 0.0369 - acc: 0.9881 - val_loss: 0.4988 - val_acc: 0.8753\n",
            "Epoch 5/10\n",
            "29274/29274 [==============================] - 11s 375us/step - loss: 0.0235 - acc: 0.9928 - val_loss: 0.6885 - val_acc: 0.8747\n",
            "Epoch 6/10\n",
            "29274/29274 [==============================] - 11s 375us/step - loss: 0.0155 - acc: 0.9957 - val_loss: 0.6659 - val_acc: 0.8720\n",
            "Epoch 7/10\n",
            "29274/29274 [==============================] - 11s 376us/step - loss: 0.0154 - acc: 0.9958 - val_loss: 0.6164 - val_acc: 0.8716\n",
            "Epoch 8/10\n",
            "29274/29274 [==============================] - 11s 378us/step - loss: 0.0120 - acc: 0.9969 - val_loss: 0.7810 - val_acc: 0.8682\n",
            "Epoch 9/10\n",
            "29274/29274 [==============================] - 11s 375us/step - loss: 0.0080 - acc: 0.9973 - val_loss: 1.0117 - val_acc: 0.8738\n",
            "Epoch 10/10\n",
            "29274/29274 [==============================] - 11s 374us/step - loss: 0.0118 - acc: 0.9970 - val_loss: 0.8372 - val_acc: 0.8732\n",
            "\n",
            " Plotting results ... \n",
            "\n"
          ],
          "name": "stdout"
        },
        {
          "output_type": "display_data",
          "data": {
            "image/png": "[encoded data removed]",
            "text/plain": [
              "<Figure size 432x288 with 1 Axes>"
            ]
          },
          "metadata": {
            "tags": []
          }
        },
        {
          "output_type": "display_data",
          "data": {
            "image/png": "[encoded data removed]",
            "text/plain": [
              "<Figure size 432x288 with 1 Axes>"
            ]
          },
          "metadata": {
            "tags": []
          }
        },
        {
          "output_type": "stream",
          "text": [
            "\n",
            " Evaluating Model ... \n",
            "\n"
          ],
          "name": "stdout"
        },
        {
          "output_type": "stream",
          "text": [
            "INFO:logger:  mcc = 0.7356550648708308\n",
            "INFO:logger:  tp = 4087\n",
            "INFO:logger:  tn = 2304\n",
            "INFO:logger:  fp = 274\n",
            "INFO:logger:  fn = 654\n",
            "INFO:logger:  pricision = 0.9371703737674846\n",
            "INFO:logger:  recall = 0.8620544188989665\n",
            "INFO:logger:  F1 = 0.8980443858492639\n",
            "INFO:logger:  accuracy = 0.8732067222298128\n"
          ],
          "name": "stderr"
        },
        {
          "output_type": "stream",
          "text": [
            "              precision    recall  f1-score   support\n",
            "\n",
            "           0       0.78      0.89      0.83      2578\n",
            "           1       0.94      0.86      0.90      4741\n",
            "\n",
            "    accuracy                           0.87      7319\n",
            "   macro avg       0.86      0.88      0.87      7319\n",
            "weighted avg       0.88      0.87      0.87      7319\n",
            "\n",
            "\n",
            "\n"
          ],
          "name": "stdout"
        }
      ]
    },
    {
      "cell_type": "markdown",
      "metadata": {
        "id": "ZNzaqWSAp7g9",
        "colab_type": "text"
      },
      "source": [
        "### Experiment with OLID"
      ]
    },
    {
      "cell_type": "code",
      "metadata": {
        "id": "VKnYpQIsc6ES",
        "colab_type": "code",
        "outputId": "1b555539-bcbb-424c-b5d6-6fcf43871840",
        "colab": {
          "base_uri": "https://localhost:8080/",
          "height": 262
        }
      },
      "source": [
        "class_balance(olid,'label')"
      ],
      "execution_count": 0,
      "outputs": [
        {
          "output_type": "display_data",
          "data": {
            "image/png": "[encoded data removed]",
            "text/plain": [
              "<Figure size 432x288 with 1 Axes>"
            ]
          },
          "metadata": {
            "tags": []
          }
        }
      ]
    },
    {
      "cell_type": "code",
      "metadata": {
        "id": "sea7axQKqE6H",
        "colab_type": "code",
        "colab": {}
      },
      "source": [
        "solid = shuffle(olid)"
      ],
      "execution_count": 0,
      "outputs": []
    },
    {
      "cell_type": "code",
      "metadata": {
        "id": "Xkk7ijHbsCYu",
        "colab_type": "code",
        "outputId": "b76a216b-888f-4065-ee7f-1df29fab3351",
        "colab": {
          "base_uri": "https://localhost:8080/",
          "height": 1000
        }
      },
      "source": [
        "experiment(olid)"
      ],
      "execution_count": 0,
      "outputs": [
        {
          "output_type": "stream",
          "text": [
            "Running Experiment ... \n",
            "Generating TFIDF ...\n",
            "tf-idf with 17087 features\n",
            "Building Model ...\n",
            "WARNING:tensorflow:From /usr/local/lib/python3.6/dist-packages/keras/backend/tensorflow_backend.py:66: The name tf.get_default_graph is deprecated. Please use tf.compat.v1.get_default_graph instead.\n",
            "\n"
          ],
          "name": "stdout"
        },
        {
          "output_type": "stream",
          "text": [
            "WARNING:tensorflow:From /usr/local/lib/python3.6/dist-packages/keras/backend/tensorflow_backend.py:66: The name tf.get_default_graph is deprecated. Please use tf.compat.v1.get_default_graph instead.\n",
            "\n"
          ],
          "name": "stderr"
        },
        {
          "output_type": "stream",
          "text": [
            "WARNING:tensorflow:From /usr/local/lib/python3.6/dist-packages/keras/backend/tensorflow_backend.py:541: The name tf.placeholder is deprecated. Please use tf.compat.v1.placeholder instead.\n",
            "\n"
          ],
          "name": "stdout"
        },
        {
          "output_type": "stream",
          "text": [
            "WARNING:tensorflow:From /usr/local/lib/python3.6/dist-packages/keras/backend/tensorflow_backend.py:541: The name tf.placeholder is deprecated. Please use tf.compat.v1.placeholder instead.\n",
            "\n"
          ],
          "name": "stderr"
        },
        {
          "output_type": "stream",
          "text": [
            "WARNING:tensorflow:From /usr/local/lib/python3.6/dist-packages/keras/backend/tensorflow_backend.py:4432: The name tf.random_uniform is deprecated. Please use tf.random.uniform instead.\n",
            "\n"
          ],
          "name": "stdout"
        },
        {
          "output_type": "stream",
          "text": [
            "WARNING:tensorflow:From /usr/local/lib/python3.6/dist-packages/keras/backend/tensorflow_backend.py:4432: The name tf.random_uniform is deprecated. Please use tf.random.uniform instead.\n",
            "\n"
          ],
          "name": "stderr"
        },
        {
          "output_type": "stream",
          "text": [
            "WARNING:tensorflow:From /usr/local/lib/python3.6/dist-packages/keras/backend/tensorflow_backend.py:148: The name tf.placeholder_with_default is deprecated. Please use tf.compat.v1.placeholder_with_default instead.\n",
            "\n"
          ],
          "name": "stdout"
        },
        {
          "output_type": "stream",
          "text": [
            "WARNING:tensorflow:From /usr/local/lib/python3.6/dist-packages/keras/backend/tensorflow_backend.py:148: The name tf.placeholder_with_default is deprecated. Please use tf.compat.v1.placeholder_with_default instead.\n",
            "\n"
          ],
          "name": "stderr"
        },
        {
          "output_type": "stream",
          "text": [
            "WARNING:tensorflow:From /usr/local/lib/python3.6/dist-packages/keras/backend/tensorflow_backend.py:3733: calling dropout (from tensorflow.python.ops.nn_ops) with keep_prob is deprecated and will be removed in a future version.\n",
            "Instructions for updating:\n",
            "Please use `rate` instead of `keep_prob`. Rate should be set to `rate = 1 - keep_prob`.\n"
          ],
          "name": "stdout"
        },
        {
          "output_type": "stream",
          "text": [
            "WARNING:tensorflow:From /usr/local/lib/python3.6/dist-packages/keras/backend/tensorflow_backend.py:3733: calling dropout (from tensorflow.python.ops.nn_ops) with keep_prob is deprecated and will be removed in a future version.\n",
            "Instructions for updating:\n",
            "Please use `rate` instead of `keep_prob`. Rate should be set to `rate = 1 - keep_prob`.\n"
          ],
          "name": "stderr"
        },
        {
          "output_type": "stream",
          "text": [
            "WARNING:tensorflow:From /usr/local/lib/python3.6/dist-packages/keras/optimizers.py:793: The name tf.train.Optimizer is deprecated. Please use tf.compat.v1.train.Optimizer instead.\n",
            "\n"
          ],
          "name": "stdout"
        },
        {
          "output_type": "stream",
          "text": [
            "WARNING:tensorflow:From /usr/local/lib/python3.6/dist-packages/keras/optimizers.py:793: The name tf.train.Optimizer is deprecated. Please use tf.compat.v1.train.Optimizer instead.\n",
            "\n"
          ],
          "name": "stderr"
        },
        {
          "output_type": "stream",
          "text": [
            "WARNING:tensorflow:From /usr/local/lib/python3.6/dist-packages/keras/backend/tensorflow_backend.py:3622: The name tf.log is deprecated. Please use tf.math.log instead.\n",
            "\n"
          ],
          "name": "stdout"
        },
        {
          "output_type": "stream",
          "text": [
            "WARNING:tensorflow:From /usr/local/lib/python3.6/dist-packages/keras/backend/tensorflow_backend.py:3622: The name tf.log is deprecated. Please use tf.math.log instead.\n",
            "\n"
          ],
          "name": "stderr"
        },
        {
          "output_type": "stream",
          "text": [
            "Model: \"sequential_1\"\n",
            "_________________________________________________________________\n",
            "Layer (type)                 Output Shape              Param #   \n",
            "=================================================================\n",
            "dense_1 (Dense)              (None, 512)               8749056   \n",
            "_________________________________________________________________\n",
            "dropout_1 (Dropout)          (None, 512)               0         \n",
            "_________________________________________________________________\n",
            "dense_2 (Dense)              (None, 512)               262656    \n",
            "_________________________________________________________________\n",
            "dropout_2 (Dropout)          (None, 512)               0         \n",
            "_________________________________________________________________\n",
            "dense_3 (Dense)              (None, 512)               262656    \n",
            "_________________________________________________________________\n",
            "dropout_3 (Dropout)          (None, 512)               0         \n",
            "_________________________________________________________________\n",
            "dense_4 (Dense)              (None, 512)               262656    \n",
            "_________________________________________________________________\n",
            "dropout_4 (Dropout)          (None, 512)               0         \n",
            "_________________________________________________________________\n",
            "dense_5 (Dense)              (None, 512)               262656    \n",
            "_________________________________________________________________\n",
            "dropout_5 (Dropout)          (None, 512)               0         \n",
            "_________________________________________________________________\n",
            "dense_6 (Dense)              (None, 2)                 1026      \n",
            "=================================================================\n",
            "Total params: 9,800,706\n",
            "Trainable params: 9,800,706\n",
            "Non-trainable params: 0\n",
            "_________________________________________________________________\n",
            "\n",
            " Starting Training ... \n",
            "\n",
            "WARNING:tensorflow:From /usr/local/lib/python3.6/dist-packages/tensorflow_core/python/ops/math_grad.py:1424: where (from tensorflow.python.ops.array_ops) is deprecated and will be removed in a future version.\n",
            "Instructions for updating:\n",
            "Use tf.where in 2.0, which has the same broadcast rule as np.where\n"
          ],
          "name": "stdout"
        },
        {
          "output_type": "stream",
          "text": [
            "WARNING:tensorflow:From /usr/local/lib/python3.6/dist-packages/tensorflow_core/python/ops/math_grad.py:1424: where (from tensorflow.python.ops.array_ops) is deprecated and will be removed in a future version.\n",
            "Instructions for updating:\n",
            "Use tf.where in 2.0, which has the same broadcast rule as np.where\n"
          ],
          "name": "stderr"
        },
        {
          "output_type": "stream",
          "text": [
            "WARNING:tensorflow:From /usr/local/lib/python3.6/dist-packages/keras/backend/tensorflow_backend.py:1033: The name tf.assign_add is deprecated. Please use tf.compat.v1.assign_add instead.\n",
            "\n"
          ],
          "name": "stdout"
        },
        {
          "output_type": "stream",
          "text": [
            "WARNING:tensorflow:From /usr/local/lib/python3.6/dist-packages/keras/backend/tensorflow_backend.py:1033: The name tf.assign_add is deprecated. Please use tf.compat.v1.assign_add instead.\n",
            "\n"
          ],
          "name": "stderr"
        },
        {
          "output_type": "stream",
          "text": [
            "WARNING:tensorflow:From /usr/local/lib/python3.6/dist-packages/keras/backend/tensorflow_backend.py:1020: The name tf.assign is deprecated. Please use tf.compat.v1.assign instead.\n",
            "\n"
          ],
          "name": "stdout"
        },
        {
          "output_type": "stream",
          "text": [
            "WARNING:tensorflow:From /usr/local/lib/python3.6/dist-packages/keras/backend/tensorflow_backend.py:1020: The name tf.assign is deprecated. Please use tf.compat.v1.assign instead.\n",
            "\n"
          ],
          "name": "stderr"
        },
        {
          "output_type": "stream",
          "text": [
            "WARNING:tensorflow:From /usr/local/lib/python3.6/dist-packages/keras/backend/tensorflow_backend.py:3005: The name tf.Session is deprecated. Please use tf.compat.v1.Session instead.\n",
            "\n"
          ],
          "name": "stdout"
        },
        {
          "output_type": "stream",
          "text": [
            "WARNING:tensorflow:From /usr/local/lib/python3.6/dist-packages/keras/backend/tensorflow_backend.py:3005: The name tf.Session is deprecated. Please use tf.compat.v1.Session instead.\n",
            "\n"
          ],
          "name": "stderr"
        },
        {
          "output_type": "stream",
          "text": [
            "Train on 10592 samples, validate on 2648 samples\n",
            "Epoch 1/10\n",
            "WARNING:tensorflow:From /usr/local/lib/python3.6/dist-packages/keras/backend/tensorflow_backend.py:190: The name tf.get_default_session is deprecated. Please use tf.compat.v1.get_default_session instead.\n",
            "\n"
          ],
          "name": "stdout"
        },
        {
          "output_type": "stream",
          "text": [
            "WARNING:tensorflow:From /usr/local/lib/python3.6/dist-packages/keras/backend/tensorflow_backend.py:190: The name tf.get_default_session is deprecated. Please use tf.compat.v1.get_default_session instead.\n",
            "\n"
          ],
          "name": "stderr"
        },
        {
          "output_type": "stream",
          "text": [
            "WARNING:tensorflow:From /usr/local/lib/python3.6/dist-packages/keras/backend/tensorflow_backend.py:197: The name tf.ConfigProto is deprecated. Please use tf.compat.v1.ConfigProto instead.\n",
            "\n"
          ],
          "name": "stdout"
        },
        {
          "output_type": "stream",
          "text": [
            "WARNING:tensorflow:From /usr/local/lib/python3.6/dist-packages/keras/backend/tensorflow_backend.py:197: The name tf.ConfigProto is deprecated. Please use tf.compat.v1.ConfigProto instead.\n",
            "\n"
          ],
          "name": "stderr"
        },
        {
          "output_type": "stream",
          "text": [
            "WARNING:tensorflow:From /usr/local/lib/python3.6/dist-packages/keras/backend/tensorflow_backend.py:207: The name tf.global_variables is deprecated. Please use tf.compat.v1.global_variables instead.\n",
            "\n"
          ],
          "name": "stdout"
        },
        {
          "output_type": "stream",
          "text": [
            "WARNING:tensorflow:From /usr/local/lib/python3.6/dist-packages/keras/backend/tensorflow_backend.py:207: The name tf.global_variables is deprecated. Please use tf.compat.v1.global_variables instead.\n",
            "\n"
          ],
          "name": "stderr"
        },
        {
          "output_type": "stream",
          "text": [
            "WARNING:tensorflow:From /usr/local/lib/python3.6/dist-packages/keras/backend/tensorflow_backend.py:216: The name tf.is_variable_initialized is deprecated. Please use tf.compat.v1.is_variable_initialized instead.\n",
            "\n"
          ],
          "name": "stdout"
        },
        {
          "output_type": "stream",
          "text": [
            "WARNING:tensorflow:From /usr/local/lib/python3.6/dist-packages/keras/backend/tensorflow_backend.py:216: The name tf.is_variable_initialized is deprecated. Please use tf.compat.v1.is_variable_initialized instead.\n",
            "\n"
          ],
          "name": "stderr"
        },
        {
          "output_type": "stream",
          "text": [
            "WARNING:tensorflow:From /usr/local/lib/python3.6/dist-packages/keras/backend/tensorflow_backend.py:223: The name tf.variables_initializer is deprecated. Please use tf.compat.v1.variables_initializer instead.\n",
            "\n"
          ],
          "name": "stdout"
        },
        {
          "output_type": "stream",
          "text": [
            "WARNING:tensorflow:From /usr/local/lib/python3.6/dist-packages/keras/backend/tensorflow_backend.py:223: The name tf.variables_initializer is deprecated. Please use tf.compat.v1.variables_initializer instead.\n",
            "\n"
          ],
          "name": "stderr"
        },
        {
          "output_type": "stream",
          "text": [
            "10592/10592 [==============================] - 11s 1ms/step - loss: 0.6096 - acc: 0.6735 - val_loss: 0.5633 - val_acc: 0.7368\n",
            "Epoch 2/10\n",
            "10592/10592 [==============================] - 2s 148us/step - loss: 0.4092 - acc: 0.8217 - val_loss: 0.5754 - val_acc: 0.7349\n",
            "Epoch 3/10\n",
            "10592/10592 [==============================] - 2s 145us/step - loss: 0.1920 - acc: 0.9309 - val_loss: 0.7089 - val_acc: 0.7277\n",
            "Epoch 4/10\n",
            "10592/10592 [==============================] - 2s 145us/step - loss: 0.0736 - acc: 0.9780 - val_loss: 1.1047 - val_acc: 0.6979\n",
            "Epoch 5/10\n",
            "10592/10592 [==============================] - 2s 148us/step - loss: 0.0448 - acc: 0.9874 - val_loss: 0.9411 - val_acc: 0.7236\n",
            "Epoch 6/10\n",
            "10592/10592 [==============================] - 2s 147us/step - loss: 0.0297 - acc: 0.9921 - val_loss: 1.0236 - val_acc: 0.7338\n",
            "Epoch 7/10\n",
            "10592/10592 [==============================] - 2s 148us/step - loss: 0.0215 - acc: 0.9944 - val_loss: 1.2386 - val_acc: 0.7277\n",
            "Epoch 8/10\n",
            "10592/10592 [==============================] - 2s 146us/step - loss: 0.0224 - acc: 0.9957 - val_loss: 1.0466 - val_acc: 0.7292\n",
            "Epoch 9/10\n",
            "10592/10592 [==============================] - 2s 146us/step - loss: 0.0119 - acc: 0.9969 - val_loss: 1.2897 - val_acc: 0.7160\n",
            "Epoch 10/10\n",
            "10592/10592 [==============================] - 2s 150us/step - loss: 0.0151 - acc: 0.9961 - val_loss: 1.3364 - val_acc: 0.7130\n",
            "\n",
            " Plotting results ... \n",
            "\n"
          ],
          "name": "stdout"
        },
        {
          "output_type": "display_data",
          "data": {
            "image/png": "[encoded data removed]",
            "text/plain": [
              "<Figure size 432x288 with 1 Axes>"
            ]
          },
          "metadata": {
            "tags": []
          }
        },
        {
          "output_type": "display_data",
          "data": {
            "image/png": "[encoded data removed]",
            "text/plain": [
              "<Figure size 432x288 with 1 Axes>"
            ]
          },
          "metadata": {
            "tags": []
          }
        },
        {
          "output_type": "stream",
          "text": [
            "\n",
            " Evaluating Model ... \n",
            "\n"
          ],
          "name": "stdout"
        },
        {
          "output_type": "stream",
          "text": [
            "INFO:logger:  mcc = 0.37203539717220674\n",
            "INFO:logger:  tp = 548\n",
            "INFO:logger:  tn = 1340\n",
            "INFO:logger:  fp = 432\n",
            "INFO:logger:  fn = 328\n",
            "INFO:logger:  pricision = 0.5591836734693878\n",
            "INFO:logger:  recall = 0.6255707762557078\n",
            "INFO:logger:  F1 = 0.5905172413793103\n",
            "INFO:logger:  accuracy = 0.7129909365558912\n"
          ],
          "name": "stderr"
        },
        {
          "output_type": "stream",
          "text": [
            "              precision    recall  f1-score   support\n",
            "\n",
            "           0       0.80      0.76      0.78      1772\n",
            "           1       0.56      0.63      0.59       876\n",
            "\n",
            "    accuracy                           0.71      2648\n",
            "   macro avg       0.68      0.69      0.68      2648\n",
            "weighted avg       0.72      0.71      0.72      2648\n",
            "\n",
            "\n",
            "\n"
          ],
          "name": "stdout"
        }
      ]
    },
    {
      "cell_type": "code",
      "metadata": {
        "id": "QrjiBj3XsEEZ",
        "colab_type": "code",
        "outputId": "64d3b2f4-0c4c-4260-81f9-5147f45927e1",
        "colab": {
          "base_uri": "https://localhost:8080/",
          "height": 264
        }
      },
      "source": [
        "class_balance(hate, 'label')"
      ],
      "execution_count": 0,
      "outputs": [
        {
          "output_type": "display_data",
          "data": {
            "image/png": "[encoded data removed]",
            "text/plain": [
              "<Figure size 432x288 with 1 Axes>"
            ]
          },
          "metadata": {
            "tags": []
          }
        }
      ]
    },
    {
      "cell_type": "code",
      "metadata": {
        "id": "794z5l1rsRMl",
        "colab_type": "code",
        "colab": {}
      },
      "source": [
        "shate = shuffle(hate)"
      ],
      "execution_count": 0,
      "outputs": []
    },
    {
      "cell_type": "code",
      "metadata": {
        "id": "uX4H1gHZsVTr",
        "colab_type": "code",
        "outputId": "f54c2d6f-1b0a-4919-ddb6-dc7b89fa1fe2",
        "colab": {
          "base_uri": "https://localhost:8080/",
          "height": 1000
        }
      },
      "source": [
        "experiment(shate)"
      ],
      "execution_count": 0,
      "outputs": [
        {
          "output_type": "stream",
          "text": [
            "Running Experiment ... \n",
            "Generating TFIDF ...\n",
            "tf-idf with 29749 features\n",
            "Building Model ...\n",
            "Model: \"sequential_2\"\n",
            "_________________________________________________________________\n",
            "Layer (type)                 Output Shape              Param #   \n",
            "=================================================================\n",
            "dense_7 (Dense)              (None, 512)               15232000  \n",
            "_________________________________________________________________\n",
            "dropout_6 (Dropout)          (None, 512)               0         \n",
            "_________________________________________________________________\n",
            "dense_8 (Dense)              (None, 512)               262656    \n",
            "_________________________________________________________________\n",
            "dropout_7 (Dropout)          (None, 512)               0         \n",
            "_________________________________________________________________\n",
            "dense_9 (Dense)              (None, 512)               262656    \n",
            "_________________________________________________________________\n",
            "dropout_8 (Dropout)          (None, 512)               0         \n",
            "_________________________________________________________________\n",
            "dense_10 (Dense)             (None, 512)               262656    \n",
            "_________________________________________________________________\n",
            "dropout_9 (Dropout)          (None, 512)               0         \n",
            "_________________________________________________________________\n",
            "dense_11 (Dense)             (None, 512)               262656    \n",
            "_________________________________________________________________\n",
            "dropout_10 (Dropout)         (None, 512)               0         \n",
            "_________________________________________________________________\n",
            "dense_12 (Dense)             (None, 2)                 1026      \n",
            "=================================================================\n",
            "Total params: 16,283,650\n",
            "Trainable params: 16,283,650\n",
            "Non-trainable params: 0\n",
            "_________________________________________________________________\n",
            "\n",
            " Starting Training ... \n",
            "\n",
            "Train on 18682 samples, validate on 4671 samples\n",
            "Epoch 1/10\n",
            "18682/18682 [==============================] - 6s 324us/step - loss: 0.2760 - acc: 0.8859 - val_loss: 0.1931 - val_acc: 0.9407\n",
            "Epoch 2/10\n",
            "18682/18682 [==============================] - 5s 280us/step - loss: 0.1254 - acc: 0.9658 - val_loss: 0.1612 - val_acc: 0.9405\n",
            "Epoch 3/10\n",
            "18682/18682 [==============================] - 5s 279us/step - loss: 0.0485 - acc: 0.9848 - val_loss: 0.1914 - val_acc: 0.9373\n",
            "Epoch 4/10\n",
            "18682/18682 [==============================] - 5s 281us/step - loss: 0.0180 - acc: 0.9945 - val_loss: 0.2382 - val_acc: 0.9366\n",
            "Epoch 5/10\n",
            "18682/18682 [==============================] - 5s 280us/step - loss: 0.0082 - acc: 0.9972 - val_loss: 0.2630 - val_acc: 0.9338\n",
            "Epoch 6/10\n",
            "18682/18682 [==============================] - 5s 281us/step - loss: 0.0055 - acc: 0.9980 - val_loss: 0.4304 - val_acc: 0.9321\n",
            "Epoch 7/10\n",
            "18682/18682 [==============================] - 5s 282us/step - loss: 0.0040 - acc: 0.9988 - val_loss: 0.3511 - val_acc: 0.9347\n",
            "Epoch 8/10\n",
            "18682/18682 [==============================] - 5s 282us/step - loss: 0.0052 - acc: 0.9991 - val_loss: 0.3524 - val_acc: 0.9358\n",
            "Epoch 9/10\n",
            "18682/18682 [==============================] - 5s 281us/step - loss: 0.0042 - acc: 0.9987 - val_loss: 0.3688 - val_acc: 0.9343\n",
            "Epoch 10/10\n",
            "18682/18682 [==============================] - 5s 281us/step - loss: 0.0041 - acc: 0.9994 - val_loss: 0.4391 - val_acc: 0.9360\n",
            "\n",
            " Plotting results ... \n",
            "\n"
          ],
          "name": "stdout"
        },
        {
          "output_type": "display_data",
          "data": {
            "image/png": "[encoded data removed]",
            "text/plain": [
              "<Figure size 432x288 with 1 Axes>"
            ]
          },
          "metadata": {
            "tags": []
          }
        },
        {
          "output_type": "display_data",
          "data": {
            "image/png": "[encoded data removed]",
            "text/plain": [
              "<Figure size 432x288 with 1 Axes>"
            ]
          },
          "metadata": {
            "tags": []
          }
        },
        {
          "output_type": "stream",
          "text": [
            "\n",
            " Evaluating Model ... \n",
            "\n"
          ],
          "name": "stdout"
        },
        {
          "output_type": "stream",
          "text": [
            "INFO:logger:  mcc = 0.7814785601794518\n",
            "INFO:logger:  tp = 3689\n",
            "INFO:logger:  tn = 683\n",
            "INFO:logger:  fp = 147\n",
            "INFO:logger:  fn = 152\n",
            "INFO:logger:  pricision = 0.9616788321167883\n",
            "INFO:logger:  recall = 0.9604269721426711\n",
            "INFO:logger:  F1 = 0.9610524944639833\n",
            "INFO:logger:  accuracy = 0.9359880111325198\n"
          ],
          "name": "stderr"
        },
        {
          "output_type": "stream",
          "text": [
            "              precision    recall  f1-score   support\n",
            "\n",
            "           0       0.82      0.82      0.82       830\n",
            "           1       0.96      0.96      0.96      3841\n",
            "\n",
            "    accuracy                           0.94      4671\n",
            "   macro avg       0.89      0.89      0.89      4671\n",
            "weighted avg       0.94      0.94      0.94      4671\n",
            "\n",
            "\n",
            "\n"
          ],
          "name": "stdout"
        }
      ]
    },
    {
      "cell_type": "code",
      "metadata": {
        "id": "AC6LomxqsZxN",
        "colab_type": "code",
        "colab": {}
      },
      "source": [
        ""
      ],
      "execution_count": 0,
      "outputs": []
    }
  ]
}